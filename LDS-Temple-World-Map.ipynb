{
 "cells": [
  {
   "cell_type": "code",
   "execution_count": 179,
   "metadata": {},
   "outputs": [
    {
     "data": {
      "text/plain": [
       "'\\n#comment and uncomment for test\\nfile = open(\"nameRaw.csv\",\"w\")\\nfile.write(nameData)\\nfile.close()\\n#comment and uncomment for test\\nfile = open(\"locRaw.csv\",\"w\")\\nfile.write(locData)\\nfile.close()\\n\\n#comment and uncomment for test\\nfile = open(\"dateRaw.csv\",\"w\")\\nfile.write(dateData)\\nfile.close()\\n\\nprint \"Done\"\\n#scrape(url)\\n#txt loc\\n#fileLoc = \\'/Users/danemorgan/Documents/DataScience/Scraping-Scripts/rawText.txt\\'\\n'"
      ]
     },
     "execution_count": 179,
     "metadata": {},
     "output_type": "execute_result"
    }
   ],
   "source": [
    "\n",
    "import pandas as pd\n",
    "import unicodedata\n",
    "\n",
    "from selenium import webdriver\n",
    "from selenium.webdriver.support.ui import WebDriverWait\n",
    "\n",
    "\n",
    "url = \"https://www.lds.org/temples/list?lang=eng\"\n",
    "driver = webdriver.Chrome(\"/Users/danemorgan/chromedriver\")\n",
    "\n",
    "driver.get(url)\n",
    "driver.implicitly_wait(5)\n",
    "#pulling out the data by html tag\n",
    "nameData = \"/n\".join([i.text for i in driver.find_elements_by_xpath('//*[@class=\"templeName-2MBmf\"]',)])\n",
    "locData = \"/n\".join([i.text for i in driver.find_elements_by_xpath('//span[@class=\"templeLocation-27z9P\"]')])\n",
    "dateData = \"/n\".join([i.text for i in driver.find_elements_by_xpath('//span[@class=\"dedicated-2xVdg\"]')])\n",
    "\n",
    "#print nameData,locData,dateData\n",
    "driver.close()\n",
    "\n",
    "nameData = unicodedata.normalize(\"NFKD\", nameData).encode(\"UTF-8\")\n",
    "locData = unicodedata.normalize(\"NFKD\", locData).encode(\"UTF-8\")\n"
   ]
  },
  {
   "cell_type": "code",
   "execution_count": 213,
   "metadata": {},
   "outputs": [],
   "source": [
    "name = nameData.split(\"/n\")\n",
    "loc = locData.split(\"/n\")\n",
    "date = dateData.split(\"/n\")\n",
    "\n",
    "DF = pd.DataFrame({\"Name\":name})\n",
    "locDF = pd.DataFrame({\"Location\":loc})\n",
    "dateDF = pd.DataFrame({\"Date\":date})\n",
    "dateDF = dateDF.shift(1)"
   ]
  },
  {
   "cell_type": "code",
   "execution_count": 214,
   "metadata": {},
   "outputs": [],
   "source": [
    "DF[\"Location\"]= locDF\n",
    "DF[\"Date\"]= dateDF"
   ]
  },
  {
   "cell_type": "code",
   "execution_count": 224,
   "metadata": {},
   "outputs": [],
   "source": [
    "DF.loc[182,\"Location\"]=\"April 22, 2001\"\n",
    "DF = DF.drop([0,0])\n",
    "#DF"
   ]
  },
  {
   "cell_type": "code",
   "execution_count": 226,
   "metadata": {},
   "outputs": [],
   "source": [
    "DF.to_csv(\"temples.csv\")"
   ]
  },
  {
   "cell_type": "code",
   "execution_count": 227,
   "metadata": {},
   "outputs": [],
   "source": [
    "DF?\n"
   ]
  },
  {
   "cell_type": "code",
   "execution_count": null,
   "metadata": {},
   "outputs": [],
   "source": []
  }
 ],
 "metadata": {
  "kernelspec": {
   "display_name": "Python 2",
   "language": "python",
   "name": "python2"
  },
  "language_info": {
   "codemirror_mode": {
    "name": "ipython",
    "version": 2
   },
   "file_extension": ".py",
   "mimetype": "text/x-python",
   "name": "python",
   "nbconvert_exporter": "python",
   "pygments_lexer": "ipython2",
   "version": "2.7.14"
  }
 },
 "nbformat": 4,
 "nbformat_minor": 2
}
