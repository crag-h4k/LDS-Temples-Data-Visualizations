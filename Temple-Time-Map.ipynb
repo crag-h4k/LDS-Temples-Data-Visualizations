{
 "cells": [
  {
   "cell_type": "code",
   "execution_count": 221,
   "metadata": {},
   "outputs": [
    {
     "name": "stdout",
     "output_type": "stream",
     "text": [
      "Populating the interactive namespace from numpy and matplotlib\n"
     ]
    },
    {
     "name": "stderr",
     "output_type": "stream",
     "text": [
      "/Users/danemorgan/anaconda2/lib/python2.7/site-packages/ipykernel_launcher.py:14: FutureWarning: pd.TimeGrouper is deprecated and will be removed; Please use pd.Grouper(freq=...)\n",
      "  \n"
     ]
    }
   ],
   "source": [
    "import pandas as pd\n",
    "import numpy as np\n",
    "import matplotlib.pyplot as plt\n",
    "#from pandas import Series, DataFrame, Panel\n",
    "\n",
    "%pylab inline\n",
    "df = pd.read_csv(\"/Users/danemorgan/Documents/DataScience/LDS-Temple-Scraper/LDS-temples.csv\")\n",
    "df = df.replace([\"Announced\",\"Renovation\",\"Construction\"], np.nan)\n",
    "df[\"Date\"] = pd.to_datetime(df[\"Date\"])\n",
    "#print(df.index)\n",
    "df.index=df[\"Date\"]\n",
    "del df[\"Unnamed: 0\"]\n",
    "del df[\"Date\"]\n",
    "df.groupby(pd.TimeGrouper(\"Y\"))\n",
    "\n",
    "pv = pd.pivot_table(df, index=df.index.year, columns=df[\"Name\"],\n",
    "                    values='Name', aggfunc='count')\n",
    "df1 = pd.DataFrame(pv)\n",
    "summed = df1.sum(axis=1)\n"
   ]
  },
  {
   "cell_type": "code",
   "execution_count": 222,
   "metadata": {},
   "outputs": [
    {
     "data": {
      "text/plain": [
       "<matplotlib.axes._subplots.AxesSubplot at 0x114f92710>"
      ]
     },
     "execution_count": 222,
     "metadata": {},
     "output_type": "execute_result"
    },
    {
     "data": {
      "image/png": "[encoded data removed]",
      "text/plain": [
       "<matplotlib.figure.Figure at 0x114fab310>"
      ]
     },
     "metadata": {},
     "output_type": "display_data"
    }
   ],
   "source": [
    "summed.plot()"
   ]
  },
  {
   "cell_type": "code",
   "execution_count": null,
   "metadata": {},
   "outputs": [],
   "source": []
  }
 ],
 "metadata": {
  "kernelspec": {
   "display_name": "Python 2",
   "language": "python",
   "name": "python2"
  },
  "language_info": {
   "codemirror_mode": {
    "name": "ipython",
    "version": 2
   },
   "file_extension": ".py",
   "mimetype": "text/x-python",
   "name": "python",
   "nbconvert_exporter": "python",
   "pygments_lexer": "ipython2",
   "version": "2.7.14"
  }
 },
 "nbformat": 4,
 "nbformat_minor": 2
}
